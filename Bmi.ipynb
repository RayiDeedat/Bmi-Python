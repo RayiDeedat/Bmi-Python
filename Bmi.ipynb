{
 "cells": [
  {
   "cell_type": "code",
   "execution_count": null,
   "metadata": {},
   "outputs": [],
   "source": [
    "height = float(input(\"Masukan Tinggi Badan Anda : \"))\n",
    "weight = float(input(\"Masukan Berat Badan: \"))\n",
    "bmi = weight/(height**2) \n",
    "if ( bmi < 16):\n",
    "   print(\"Terlalu Kurus\")\n",
    "\n",
    "elif ( bmi >= 16 and bmi < 18.5):\n",
    "   print(\"Kurus\")\n",
    "\n",
    "elif ( bmi >= 18.5 and bmi < 25):\n",
    "   print(\"Ideal\")\n",
    "\n",
    "elif ( bmi >= 25 and bmi < 30):\n",
    "   print(\"Gendut\")\n",
    "\n",
    "elif ( bmi >=30):\n",
    "   print(\"Terlalu Gendut\")"
   ]
  }
 ],
 "metadata": {
  "kernelspec": {
   "display_name": "Python 3",
   "language": "python",
   "name": "python3"
  },
  "language_info": {
   "codemirror_mode": {
    "name": "ipython",
    "version": 3
   },
   "file_extension": ".py",
   "mimetype": "text/x-python",
   "name": "python",
   "nbconvert_exporter": "python",
   "pygments_lexer": "ipython3",
   "version": "3.7.1"
  }
 },
 "nbformat": 4,
 "nbformat_minor": 2
}
